{
 "cells": [
  {
   "cell_type": "markdown",
   "metadata": {},
   "source": [
    "# Design note\n",
    "\n",
    "## Motivation:\n",
    "Ultimately, we want to compile the model definition into GraphPPL's `Model`, which gives us the following tasks to complete.\n",
    "1. Because each array element can have different types, every element need to be individual node in the final graph, so we \n",
    "    need a way to support this. \n",
    "2. Figure out if the model is fully defined, most notably, given the input param/data, all the loop bounds (and if conditions)\n",
    "    can be figured out by partial evaluation\n",
    "3. Doing some static checking, including cases like: the RHS of stochastic assignments need to be distributions only, the \n",
    "    number of arguments for the distributions are correct, etc.\n",
    "4. ...\n",
    "\n",
    "## Design: \n",
    "### Partial Evaluation\n",
    "I plan to rely on [Symbolics.substitute](https://symbolics.juliasymbolics.org/dev/manual/expression_manipulation/#SymbolicUtils.substitute) \n",
    "to do the partial evaluations. One important observation is that we don't care about stochastic assignments as they can be translated \n",
    "directly (more or less). So the idea is to create a dictionary of symbolic rules using input param/data and logical assignments. And just\n",
    "use `substitute` to try to evaluate to a concrete value. \n",
    "```julia\n",
    "using Symbolics: substitute\n",
    "\n",
    "@variables a b\n",
    "c = a + b\n",
    "# the dictionary in the following line is called \"rules\"\n",
    "substitute(c, Dict(a => 10, b => 5)) # 15\n",
    "```\n",
    "\n",
    "### Array\n",
    "In short, all the array elements will be represented by a symbolic variable, and I plan to use array of symbolic variables to organize them. \n",
    "i.e., something like `:(:ref, :g, 3)` will give back a symbolics variable. \n",
    "\n",
    "### Passes\n",
    "After some thoughts, I think one sensible way to achieve the functionalities is adopting the idea of writing compiler-like passes.\n",
    "Here are the passes I plan to implement at the moment (in order):\n",
    "1. Analyze the input param/data, save them into a global dictionary used as `rule`s for `substitute` \n",
    "2. Unroll the loops with constant loop bounds. The rationale behind this unroll is that user may define constant arrays using for loops, \n",
    "    and we may need these values to determine loop bounds.\n",
    "3. Resolve `if` statements.\n",
    "3. For all the logical assignment not in a loop right now (after first unrolling), for all the variable that are not defined, \n",
    "    make a symbolic variable with the variable name, then add `LHS => RHS` to the `rule` dictionary. If RHS is constant, then simply \n",
    "    add this mapping into the `rule` dictionary. \n",
    "4. Now we should be able to evaluate variable loop bounds to a number, given the definition is correct. So we unroll again. (This approach has an\n",
    "    underlying assumption, that is all loop bounds variables are defined outside other for loops with variable bounds. I have an intuition that there \n",
    "    are some contrived way to write program that can break this, but it should cover almost all the sensible programs.) \n",
    "5. At this moment, we should have a program with only simple statements, with all the array references replaced by simple variables. So we can \n",
    "    just simply translate this into GraphPPL input line by line."
   ]
  },
  {
   "cell_type": "markdown",
   "metadata": {},
   "source": [
    "### Come Later\n",
    "1. link functions\n",
    "2. `if` statements"
   ]
  },
  {
   "cell_type": "markdown",
   "metadata": {},
   "source": [
    "## Examples demonstrate current progress"
   ]
  },
  {
   "cell_type": "code",
   "execution_count": 12,
   "metadata": {},
   "outputs": [],
   "source": [
    "using BugsModels;\n",
    "using PrettyPrinting"
   ]
  },
  {
   "cell_type": "code",
   "execution_count": 2,
   "metadata": {},
   "outputs": [],
   "source": [
    "# Data is given in the form of a dictionary\n",
    "data = Dict(\n",
    "    :a => 1,\n",
    "    :n => 3,\n",
    "    :g => [1, 2, 3]\n",
    ")\n",
    "arrays = Dict()\n",
    "rules = Dict()\n",
    "analyze_data!(data, rules, arrays)"
   ]
  },
  {
   "cell_type": "code",
   "execution_count": 3,
   "metadata": {},
   "outputs": [
    {
     "name": "stdout",
     "output_type": "stream",
     "text": [
      "rules = Dict{Any, Any}(a => 1, var\"g[1]\" => 1, n => 3, var\"g[2]\" => 2, var\"g[3]\" => 3)\n"
     ]
    }
   ],
   "source": [
    "@show rules;"
   ]
  },
  {
   "cell_type": "code",
   "execution_count": 4,
   "metadata": {},
   "outputs": [
    {
     "name": "stdout",
     "output_type": "stream",
     "text": [
      "arrays = Dict{Any, Any}(:g => Symbolics.Num[var\"g[1]\", var\"g[2]\", var\"g[3]\"])\n"
     ]
    }
   ],
   "source": [
    "@show arrays;"
   ]
  },
  {
   "cell_type": "code",
   "execution_count": 5,
   "metadata": {},
   "outputs": [
    {
     "data": {
      "text/plain": [
       "3"
      ]
     },
     "execution_count": 5,
     "metadata": {},
     "output_type": "execute_result"
    }
   ],
   "source": [
    "# Partial evaluation is done with `Symbolic.substitute`. \n",
    "# `resolve` is a wrapper around `Symbolic.substitute` and handle cases when \n",
    "# the thing to resolve is just a number;\n",
    "# `get_sym_var` take argument that is a Symbol, returns a symbolic variable\n",
    "BugsModels.resolve(get_sym_var(:n), rules)\n",
    "# n is provided in the `data` dictionary, here it's 3"
   ]
  },
  {
   "cell_type": "markdown",
   "metadata": {},
   "source": [
    "### Unroll\n",
    "Just as discussed in Design section. The reason for unrolling is to make the model definition only contain simple expressions, so translation to GraphPPL is automatic.  \n",
    "\n",
    "An example contain several cases for unrolling."
   ]
  },
  {
   "cell_type": "code",
   "execution_count": 6,
   "metadata": {},
   "outputs": [],
   "source": [
    "## tests for unroll\n",
    "expr = bugsmodel\"\"\"      \n",
    "### Likelihood\n",
    "    # dummy assignment for easy understanding\n",
    "    variable.0 <- 1\n",
    "\n",
    "    # nested loop\n",
    "    for (i in 1:3) {\n",
    "        # constant assignment\n",
    "        array.variable.0[i] <- 1\n",
    "        # assignment using loop variable\n",
    "        array.variable.1[i] <- i + 1\n",
    "        \n",
    "        # nested loops in another for loop\n",
    "        for (j in 1:2) {\n",
    "            # loop bound depend on loop variable\n",
    "            for (k in 1:j) {\n",
    "                array.variable.2[i, j, k] = 2\n",
    "            }\n",
    "        }\n",
    "    }\n",
    "\n",
    "    # variable loop bound that can be resolve from user input\n",
    "    for (i in 1:n) {\n",
    "        array.variable.3[i] <- i\n",
    "    }\n",
    "\n",
    "    # dummy assignment for easy understanding\n",
    "    variable.1 <- 1\n",
    "\"\"\"\n",
    "BugsModels.unroll_for_loops!(expr, rules);"
   ]
  },
  {
   "cell_type": "code",
   "execution_count": 7,
   "metadata": {},
   "outputs": [
    {
     "data": {
      "text/plain": [
       "quote\n",
       "    var\"variable.0\" = 1\n",
       "    var\"array.variable.0\"[1] = 1\n",
       "    var\"array.variable.1\"[1] = 1 + 1\n",
       "    var\"array.variable.2\"[1, 1, 1] = 2\n",
       "    var\"array.variable.2\"[1, 2, 1] = 2\n",
       "    var\"array.variable.2\"[1, 2, 2] = 2\n",
       "    var\"array.variable.0\"[2] = 1\n",
       "    var\"array.variable.1\"[2] = 2 + 1\n",
       "    var\"array.variable.2\"[2, 1, 1] = 2\n",
       "    var\"array.variable.2\"[2, 2, 1] = 2\n",
       "    var\"array.variable.2\"[2, 2, 2] = 2\n",
       "    var\"array.variable.0\"[3] = 1\n",
       "    var\"array.variable.1\"[3] = 3 + 1\n",
       "    var\"array.variable.2\"[3, 1, 1] = 2\n",
       "    var\"array.variable.2\"[3, 2, 1] = 2\n",
       "    var\"array.variable.2\"[3, 2, 2] = 2\n",
       "    var\"array.variable.3\"[1] = 1\n",
       "    var\"array.variable.3\"[2] = 2\n",
       "    var\"array.variable.3\"[3] = 3\n",
       "    var\"variable.1\" = 1\n",
       "end"
      ]
     },
     "execution_count": 7,
     "metadata": {},
     "output_type": "execute_result"
    }
   ],
   "source": [
    "# After unrolling\n",
    "# Note the loop with variable loop bound `n` is also unrolled\n",
    "expr"
   ]
  },
  {
   "cell_type": "markdown",
   "metadata": {},
   "source": [
    "### Parse logical assignments and add them to `rules`"
   ]
  },
  {
   "cell_type": "code",
   "execution_count": 10,
   "metadata": {},
   "outputs": [
    {
     "name": "stdout",
     "output_type": "stream",
     "text": [
      "Before parsing:\n",
      "arrays = \n",
      "Dict(:g => [var\"g[1]\", var\"g[2]\", var\"g[3]\"])\n",
      "rules = \n",
      "Dict(a => 1, var\"g[1]\" => 1, n => 3, var\"g[2]\" => 2, var\"g[3]\" => 3)"
     ]
    }
   ],
   "source": [
    "expr = bugsmodel\"\"\"\n",
    "    v[2] <- h[3] + (x[2] * d) * c\n",
    "    w[6] <- f[2] / (y[4] + e)\n",
    "\"\"\"\n",
    "\n",
    "println(\"Before parsing:\")\n",
    "print(\"arrays = \\n\")\n",
    "pprint(arrays)\n",
    "print(\"\\nrules = \\n\")\n",
    "pprint(rules)\n",
    "\n",
    "BugsModels.parse_logical_assignments!(expr, arrays, rules)"
   ]
  },
  {
   "cell_type": "code",
   "execution_count": 11,
   "metadata": {},
   "outputs": [
    {
     "name": "stdout",
     "output_type": "stream",
     "text": [
      "After parsing:\n",
      "arrays = \n",
      "Dict(:f => [var\"f[1]\", var\"f[2]\"],\n",
      "     :w => [var\"w[1]\", var\"w[2]\", var\"w[3]\", var\"w[4]\", var\"w[5]\", var\"w[6]\"],\n",
      "     :y => [var\"y[1]\", var\"y[2]\", var\"y[3]\", var\"y[4]\"],\n",
      "     :v => [var\"v[1]\", var\"v[2]\"],\n",
      "     :h => [var\"h[1]\", var\"h[2]\", var\"h[3]\"],\n",
      "     :g => [var\"g[1]\", var\"g[2]\", var\"g[3]\"],\n",
      "     :x => [var\"x[1]\", var\"x[2]\"])\n",
      "rules = \n",
      "Dict(a => 1,\n",
      "     var\"g[1]\" => 1,\n",
      "     n => 3,\n",
      "     var\"g[2]\" => 2,\n",
      "     var\"w[6]\" => var\"f[2]\" / (e + var\"y[4]\"),\n",
      "     var\"g[3]\" => 3,\n",
      "     var\"v[2]\" => var\"h[3]\" + c*d*var\"x[2]\")"
     ]
    }
   ],
   "source": [
    "println(\"After parsing:\")\n",
    "print(\"arrays = \\n\")\n",
    "pprint(arrays)\n",
    "print(\"\\nrules = \\n\")\n",
    "pprint(rules)"
   ]
  },
  {
   "cell_type": "markdown",
   "metadata": {},
   "source": [
    "Most notably, the array is automatically handled: all the arrays in the expression will be sized either by the input, or the largest index provided in the model definition.  \n",
    "And logical assignment is added to the `rules` dictionary."
   ]
  }
 ],
 "metadata": {
  "kernelspec": {
   "display_name": "Julia 1.7.3",
   "language": "julia",
   "name": "julia-1.7"
  },
  "language_info": {
   "file_extension": ".jl",
   "mimetype": "application/julia",
   "name": "julia",
   "version": "1.7.3"
  }
 },
 "nbformat": 4,
 "nbformat_minor": 4
}
